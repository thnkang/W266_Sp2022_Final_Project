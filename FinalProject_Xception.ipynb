{
  "cells": [
    {
      "cell_type": "code",
      "execution_count": null,
      "id": "c8e4a902",
      "metadata": {
        "id": "c8e4a902"
      },
      "outputs": [],
      "source": [
        "!pip install TensorFlow\n",
        "!pip install Keras\n",
        "!pip install pillow\n",
        "!pip install NumPy\n",
        "!pip install tqdm\n",
        "!pip install jupyterlab\n",
        "!pip install pydot"
      ]
    },
    {
      "cell_type": "code",
      "execution_count": null,
      "id": "a36a3daa",
      "metadata": {
        "colab": {
          "base_uri": "https://localhost:8080/",
          "height": 49,
          "referenced_widgets": [
            "bf974d63d3e7423cbcde60676b99d973",
            "a2a0b85f51a04458a842c1aeffab4a15",
            "4e0736b9d5874a8490c78f46ef8670f1",
            "ec0233d7646149adbc1924de7ced7124",
            "6f39f862e4874600a4a2ec867b3eae7e",
            "360d78b99dbe4af48761558a13ae4d6f",
            "6c9b82359975407fb3566316e7af2da8",
            "1f2a3073455545dd82a342b6faac380b",
            "354b5f9e17c946bfa468421c6fbf728f",
            "eb144ff3e2d142b6b71b79c641aa772d",
            "5082c1f2e3894d989b9e6d3bdc29f80f"
          ]
        },
        "id": "a36a3daa",
        "outputId": "b960837b-bc4d-4b4d-f1ef-12f0dc19dbf6"
      },
      "outputs": [
        {
          "output_type": "display_data",
          "data": {
            "text/plain": [
              "0it [00:00, ?it/s]"
            ],
            "application/vnd.jupyter.widget-view+json": {
              "version_major": 2,
              "version_minor": 0,
              "model_id": "bf974d63d3e7423cbcde60676b99d973"
            }
          },
          "metadata": {}
        }
      ],
      "source": [
        "import numpy as np\n",
        "from PIL import Image\n",
        "import os, fnmatch\n",
        "import string, random\n",
        "from pickle import dump\n",
        "from pickle import load\n",
        "from keras.applications.xception import Xception \n",
        "from keras.applications.xception import preprocess_input\n",
        "from keras.preprocessing.image import load_img\n",
        "from keras.preprocessing.image import img_to_array\n",
        "from keras.preprocessing.text import Tokenizer \n",
        "from keras.preprocessing.sequence import pad_sequences\n",
        "from tensorflow.keras.utils import to_categorical\n",
        "from keras.layers.merge import add\n",
        "from keras.models import Model, load_model\n",
        "from keras.layers import Input, Dense\n",
        "from keras.layers import LSTM, Embedding, Dropout\n",
        "from tqdm.notebook import tqdm as tqdm \n",
        "from nltk.translate.bleu_score import corpus_bleu\n",
        "\n",
        "tqdm().pandas()"
      ]
    },
    {
      "cell_type": "code",
      "source": [
        "from google.colab import drive\n",
        "drive.mount('/content/drive', force_remount=True)\n",
        "import glob"
      ],
      "metadata": {
        "colab": {
          "base_uri": "https://localhost:8080/"
        },
        "id": "A9hMvVYKSVHs",
        "outputId": "12154e9f-6c46-42ec-9a3e-ffe55a4695ad"
      },
      "id": "A9hMvVYKSVHs",
      "execution_count": null,
      "outputs": [
        {
          "output_type": "stream",
          "name": "stdout",
          "text": [
            "Mounted at /content/drive\n"
          ]
        }
      ]
    },
    {
      "cell_type": "code",
      "source": [
        "!ls \"/content/drive/My Drive/w266\""
      ],
      "metadata": {
        "colab": {
          "base_uri": "https://localhost:8080/"
        },
        "id": "CvyQCjYBSaqw",
        "outputId": "a12966c1-64a3-4036-ea6f-1dde97caf65d"
      },
      "id": "CvyQCjYBSaqw",
      "execution_count": null,
      "outputs": [
        {
          "output_type": "stream",
          "name": "stdout",
          "text": [
            "Archive.zip\t  features_Xc.p\t\t      model_results_64_epochs.csv\n",
            "descriptions.txt  Flicker8kDataset\t      Xcp_tokenizer.p\n",
            "features.p\t  Flicker8kText\n",
            "features_vgg.p\t  model_results_30_epocs.csv\n"
          ]
        }
      ]
    },
    {
      "cell_type": "code",
      "source": [
        "image_path = \"/content/drive/My Drive/w266/Flicker8kDataset\"\n",
        "files = glob.glob(image_path+ \"/*.jpg\")\n",
        "i=0\n",
        "for file in files:\n",
        "    i=i+1\n",
        "\n",
        "print(\"Total Images in Dataset\", i)"
      ],
      "metadata": {
        "colab": {
          "base_uri": "https://localhost:8080/"
        },
        "id": "TB1yAFiKSgLV",
        "outputId": "bd743360-f599-472f-a0bd-1bbaf17cc69c"
      },
      "id": "TB1yAFiKSgLV",
      "execution_count": null,
      "outputs": [
        {
          "output_type": "stream",
          "name": "stdout",
          "text": [
            "Total Images in Dataset 8091\n"
          ]
        }
      ]
    },
    {
      "cell_type": "code",
      "execution_count": null,
      "id": "283fcbd3",
      "metadata": {
        "id": "283fcbd3"
      },
      "outputs": [],
      "source": [
        "# Read the contents of the file into a string.\n",
        "def load_fp(filename):\n",
        "    print(\"load_fp:\",filename)\n",
        "\n",
        "    with open(filename, 'r') as f:\n",
        "        text = f.read()\n",
        "        print(\"size of file:\",f.tell())\n",
        "        f.close()\n",
        "    return text"
      ]
    },
    {
      "cell_type": "code",
      "execution_count": null,
      "id": "35890482",
      "metadata": {
        "id": "35890482"
      },
      "outputs": [],
      "source": [
        "# Description dictionary that will map images with all 5 captions\n",
        "import re\n",
        "def img_capt(filename):\n",
        "    file = load_fp(filename)\n",
        "    captions = file.split('\\n')\n",
        "    descriptions ={}\n",
        "    for caption in captions[:-1]:\n",
        "        img, caption = caption.split('\\t')\n",
        "        if img[:-2] not in descriptions:\n",
        "            descriptions[img[:-2]] = [caption]\n",
        "        else:\n",
        "            descriptions[img[:-2]].append(caption)\n",
        "    return descriptions"
      ]
    },
    {
      "cell_type": "code",
      "execution_count": null,
      "id": "46eb6459",
      "metadata": {
        "id": "46eb6459"
      },
      "outputs": [],
      "source": [
        "'''Data cleaning function will convert all upper case alphabets to lowercase, removing punctuations and words containing numbers\n",
        "This method is used to clean the data by taking all descriptions as input. \n",
        "While dealing with textual data we need to perform several types of cleaning \n",
        "including uppercase to lowercase conversion, punctuation removal, and removal \n",
        "of the number containing words.\n",
        "'''\n",
        "def txt_clean(captions):\n",
        "    table = str.maketrans('','',string.punctuation)\n",
        "    for img,caps in captions.items():\n",
        "        for i,img_caption in enumerate(caps):\n",
        "            img_caption.replace(\"-\",\" \")\n",
        "            descp = img_caption.split()\n",
        "          #uppercase to lowercase\n",
        "            descp = [wrd.lower() for wrd in descp]\n",
        "          #remove punctuation from each token\n",
        "            descp = [wrd.translate(table) for wrd in descp]\n",
        "          #remove hanging 's and a\n",
        "            descp = [wrd for wrd in descp if(len(wrd)>1)]\n",
        "          #remove words containing numbers with them\n",
        "            descp = [wrd for wrd in descp if(wrd.isalpha())]\n",
        "          #converting back to string\n",
        "            img_caption = ' '.join(descp)\n",
        "            captions[img][i]= img_caption\n",
        "    return captions\n"
      ]
    },
    {
      "cell_type": "code",
      "execution_count": null,
      "id": "884a436a",
      "metadata": {
        "id": "884a436a"
      },
      "outputs": [],
      "source": [
        "'''This function is used to create a vocabulary from all the unique words extracted out from descriptions.\n",
        "'''\n",
        "def txt_vocab(descriptions):\n",
        "    vocab = set()\n",
        "    for key in descriptions.keys():\n",
        "       [vocab.update(d.split()) for d in descriptions[key]]\n",
        "    return vocab"
      ]
    },
    {
      "cell_type": "code",
      "execution_count": null,
      "id": "df45c728",
      "metadata": {
        "id": "df45c728"
      },
      "outputs": [],
      "source": [
        "#To save all descriptions in one file\n",
        "def save_descriptions(descriptions, filename):\n",
        "    lines = list()\n",
        "    for key, desc_list in descriptions.items():\n",
        "        for desc in desc_list:\n",
        "            lines.append(key + '\\t' + desc )\n",
        "    data = \"\\n\".join(lines)\n",
        "    file = open(filename,\"w\")\n",
        "    file.write(data)\n",
        "    file.close()"
      ]
    },
    {
      "cell_type": "code",
      "execution_count": null,
      "id": "6e594aaa",
      "metadata": {
        "id": "6e594aaa"
      },
      "outputs": [],
      "source": [
        "# set folder locations to source images and desctions\n",
        "dataset_text = \"/content/drive/My Drive/w266/Flicker8kText\"\n",
        "dataset_images = \"/content/drive/My Drive/w266/Flicker8kDataset\"\n",
        "dataset_base = \"/content/drive/My Drive/w266\""
      ]
    },
    {
      "cell_type": "code",
      "execution_count": null,
      "id": "d54c943e",
      "metadata": {
        "id": "d54c943e"
      },
      "outputs": [],
      "source": [
        "\n",
        "filename = dataset_text + \"/\" + \"Flickr8k.token.txt\"\n",
        "\n",
        "#build descriptions dictionary\n",
        "descriptions = img_capt(filename)\n",
        "print(\"Length of descriptions =\" ,len(descriptions))\n",
        "\n",
        "\n",
        "#cleaning the descriptions\n",
        "clean_descriptions = txt_clean(descriptions)\n",
        "print(\"Length of clean descriptions =\" ,len(descriptions))\n",
        "\n",
        "#Build vocabulary\n",
        "vocabulary = txt_vocab(clean_descriptions)\n",
        "print(\"Length of vocabulary = \", len(vocabulary))\n",
        "\n",
        "#Save descriptions for future use\n",
        "save_descriptions(clean_descriptions, dataset_base+\"/descriptions.txt\")\n",
        "print(\"Descriptions saved as descriptions.txt\")\n"
      ]
    },
    {
      "cell_type": "code",
      "execution_count": null,
      "id": "692637c0",
      "metadata": {
        "colab": {
          "base_uri": "https://localhost:8080/"
        },
        "id": "692637c0",
        "outputId": "bac4e761-3ae0-4f7f-fc7a-41f4f2a963fb"
      },
      "outputs": [
        {
          "output_type": "stream",
          "name": "stdout",
          "text": [
            "8091\n"
          ]
        }
      ],
      "source": [
        "import os, fnmatch\n",
        "files = fnmatch.filter(os.listdir(dataset_images), '*.jpg')\n"
      ]
    },
    {
      "cell_type": "code",
      "execution_count": null,
      "id": "d57b365e",
      "metadata": {
        "id": "d57b365e"
      },
      "outputs": [],
      "source": [
        "def extract_features(directory):\n",
        "        model = Xception( include_top=False, pooling='avg' )\n",
        "        features = {}\n",
        "        files = fnmatch.filter(os.listdir(directory), '*.jpg')\n",
        "        for img in tqdm(files):\n",
        "            filename = directory + \"/\" + img\n",
        "            image = Image.open(filename)\n",
        "            X.append(img)\n",
        "            image = image.resize((299,299))\n",
        "            image = np.expand_dims(image, axis=0)\n",
        "            image = image/127.5\n",
        "            image = image - 1.0\n",
        "            \n",
        "            feature = model.predict(image)\n",
        "            features[img] = feature\n",
        "        return features"
      ]
    },
    {
      "cell_type": "code",
      "execution_count": null,
      "id": "18e500dd",
      "metadata": {
        "colab": {
          "base_uri": "https://localhost:8080/",
          "height": 49,
          "referenced_widgets": [
            "4c8cad68b034419b85081793fd273f3c",
            "f11cb19ae2a44a1d8f7221082cb7a6b1",
            "ebf3e220ecdf428e9ccdc930fb62d65f",
            "4376e8dc7c0c4c8bbbf3611622a6eb72",
            "58fc26a021a94e648ef5a9738d34a77c",
            "5a2eb82a57a74b9ab6bd37fcf1bfd994",
            "5692a93fff7947688d95414b22be101a",
            "b959cb81767849998fde0eb9de708db6",
            "222caba99dbf4920b741d97a7a1de8da",
            "ef0870e258b54769b42b6930e6ab1f8c",
            "742eab478a1741bc91ea4cc295425be2"
          ]
        },
        "id": "18e500dd",
        "outputId": "7c81560f-c943-48c4-8763-18dc5f35651b"
      },
      "outputs": [
        {
          "output_type": "display_data",
          "data": {
            "text/plain": [
              "  0%|          | 0/8091 [00:00<?, ?it/s]"
            ],
            "application/vnd.jupyter.widget-view+json": {
              "version_major": 2,
              "version_minor": 0,
              "model_id": "4c8cad68b034419b85081793fd273f3c"
            }
          },
          "metadata": {}
        }
      ],
      "source": [
        "X=[]\n",
        "features = extract_features(dataset_images)"
      ]
    },
    {
      "cell_type": "code",
      "execution_count": null,
      "id": "fdd14ca6",
      "metadata": {
        "id": "fdd14ca6"
      },
      "outputs": [],
      "source": [
        "# Data preparation with shuffle\n",
        "random.shuffle(X)\n",
        "train_size = int(len(files)* .8)\n",
        "train_arr = X[:train_size]\n",
        "test_arr = X[train_size:]\n"
      ]
    },
    {
      "cell_type": "code",
      "execution_count": null,
      "id": "b4b15d22",
      "metadata": {
        "id": "b4b15d22"
      },
      "outputs": [],
      "source": [
        "dump(features, open(dataset_base+\"/features_Xc.p\",\"wb\"))\n"
      ]
    },
    {
      "cell_type": "code",
      "source": [
        "features = []\n",
        "features = load(open(dataset_base+\"/features_Xc.p\",\"rb\"))"
      ],
      "metadata": {
        "id": "YAoZ-mpl3Ega"
      },
      "id": "YAoZ-mpl3Ega",
      "execution_count": null,
      "outputs": []
    },
    {
      "cell_type": "code",
      "execution_count": null,
      "id": "e744f0e3",
      "metadata": {
        "id": "e744f0e3"
      },
      "outputs": [],
      "source": [
        "output_file = open(dataset_text + \"/\" + \"Flickr_8k.trainImages_Xc.txt\", 'w')\n",
        "\n",
        "for fname in train_arr:\n",
        "    output_file.write(fname + '\\n')\n",
        "\n",
        "output_file.close()\n",
        "\n",
        "output_file = open(dataset_text + \"/\" + \"Flickr_8k.testImages_Xc.txt\", 'w')\n",
        "\n",
        "for fname in test_arr:\n",
        "    output_file.write(fname + '\\n')\n",
        "\n",
        "output_file.close()"
      ]
    },
    {
      "cell_type": "code",
      "execution_count": null,
      "id": "b85ed643",
      "metadata": {
        "id": "b85ed643"
      },
      "outputs": [],
      "source": [
        "'''This function will take a file name as a parameter and return the list of image names by \n",
        "loading the text file into a string.\n",
        "'''\n",
        "def load_photos(filename):\n",
        "    file = load_fp(filename)\n",
        "    photos = file.split(\"\\n\")[:-1]\n",
        "    return photos"
      ]
    },
    {
      "cell_type": "code",
      "execution_count": null,
      "id": "b0640873",
      "metadata": {
        "id": "b0640873"
      },
      "outputs": [],
      "source": [
        "'''Storing the captions for every image from the list of photos to a dictionary. \n",
        "For the ease of the LSTM model in identifying the beginning and ending of a caption, \n",
        "we appended the and identifier with each caption.\n",
        "'''\n",
        "def load_clean_descriptions(filename, photos):\n",
        "\n",
        "    file = load_fp(filename)\n",
        "    descriptions = {}\n",
        "    for line in file.split(\"\\n\"):\n",
        "        words = line.split()\n",
        "        if len(words)<1 :\n",
        "            continue\n",
        "            \n",
        "        image, image_caption = words[0], words[1:]\n",
        "        if image in photos:\n",
        "            if image not in descriptions:\n",
        "                descriptions[image] = []\n",
        "                desc = '<start> ' + \" \".join(image_caption) + ' <end>'\n",
        "                descriptions[image].append(desc)\n",
        "    return descriptions"
      ]
    },
    {
      "cell_type": "code",
      "execution_count": null,
      "id": "941707fc",
      "metadata": {
        "id": "941707fc"
      },
      "outputs": [],
      "source": [
        "'''The extracted feature vectors from the Xception model and the dictionary for \n",
        "photos are returned by this function.\n",
        "'''\n",
        "def load_features(photos):\n",
        "    all_features = load(open(dataset_base+\"/features.p\",\"rb\"))\n",
        "    features = {k:all_features[k] for k in photos}\n",
        "    all_features = []\n",
        "    return features\n"
      ]
    },
    {
      "cell_type": "code",
      "execution_count": null,
      "id": "ccafa3f1",
      "metadata": {
        "id": "ccafa3f1"
      },
      "outputs": [],
      "source": [
        "filename = dataset_text + \"/\" + \"Flickr_8k.trainImages_Xc.txt\"\n",
        "train_imgs = load_photos(filename)\n",
        "print(\"size of train_imgs=\", len(train_imgs))\n",
        "\n",
        "train_descriptions = load_clean_descriptions(dataset_base+\"/descriptions.txt\", train_imgs)\n",
        "print(\"size of train_descriptions =\", len(train_descriptions))\n",
        "\n",
        "train_features = load_features(train_imgs)\n",
        "print(\"size of train_features =\", len(train_features))\n"
      ]
    },
    {
      "cell_type": "code",
      "execution_count": null,
      "id": "c4686acb",
      "metadata": {
        "id": "c4686acb"
      },
      "outputs": [],
      "source": [
        "''' convert dictionary to list of descriptions '''\n",
        "def dict_to_list(descriptions):\n",
        "    all_desc = []\n",
        "    for key in descriptions.keys():\n",
        "        [all_desc.append(d) for d in descriptions[key]]\n",
        "    return all_desc"
      ]
    },
    {
      "cell_type": "code",
      "execution_count": null,
      "id": "3557cc8f",
      "metadata": {
        "id": "3557cc8f"
      },
      "outputs": [],
      "source": [
        "from keras.preprocessing.text import Tokenizer\n",
        "def create_tokenizer(descriptions):\n",
        "    desc_list = dict_to_list(descriptions)\n",
        "    tokenizer = Tokenizer()\n",
        "    tokenizer.fit_on_texts(desc_list)\n",
        "    return tokenizer"
      ]
    },
    {
      "cell_type": "code",
      "execution_count": null,
      "id": "5ee7e795",
      "metadata": {
        "id": "5ee7e795",
        "colab": {
          "base_uri": "https://localhost:8080/"
        },
        "outputId": "04013e27-dce9-4956-f609-6548504b1a9f"
      },
      "outputs": [
        {
          "output_type": "execute_result",
          "data": {
            "text/plain": [
              "4020"
            ]
          },
          "metadata": {},
          "execution_count": 89
        }
      ],
      "source": [
        "''' Give each word an index, and store that into tokenizer.p pickle file. This is to make sure \n",
        "we dont have to build the model everytime we start the process'''\n",
        "tokenizer = create_tokenizer(train_descriptions)\n",
        "dump(tokenizer, open(dataset_base + '/Xcp_tokenizer.p', 'wb'))\n",
        "vocab_size = len(tokenizer.word_index) + 1\n",
        "vocab_size "
      ]
    },
    {
      "cell_type": "code",
      "execution_count": null,
      "id": "1263db48",
      "metadata": {
        "id": "1263db48"
      },
      "outputs": [],
      "source": [
        "''' calculate maximum length of descriptions to decide the model structure parameters. '''\n",
        "def get_max_length(descriptions):\n",
        "    desc_list = dict_to_list(descriptions)\n",
        "    return max(len(d.split()) for d in desc_list)\n",
        "\n",
        "max_length = get_max_length(descriptions)"
      ]
    },
    {
      "cell_type": "code",
      "execution_count": null,
      "id": "edb8f7d8",
      "metadata": {
        "id": "edb8f7d8"
      },
      "outputs": [],
      "source": [
        "''' Generic method to get data for model '''\n",
        "def data_generator(descriptions, features, tokenizer, max_length):\n",
        "    while 1:\n",
        "        for key, description_list in descriptions.items():\n",
        "            feature = features[key][0]\n",
        "            inp_image, inp_seq, op_word = create_sequences(tokenizer, max_length, description_list, feature)\n",
        "            yield [[inp_image, inp_seq], op_word]"
      ]
    },
    {
      "cell_type": "code",
      "execution_count": null,
      "id": "962995ef",
      "metadata": {
        "id": "962995ef"
      },
      "outputs": [],
      "source": [
        "def create_sequences(tokenizer, max_length, desc_list, feature):\n",
        "    x_1, x_2, y = list(), list(), list()\n",
        "    for desc in desc_list:\n",
        "        seq = tokenizer.texts_to_sequences([desc])[0]\n",
        "        for i in range(1, len(seq)):\n",
        "            in_seq, out_seq = seq[:i], seq[i]\n",
        "            in_seq = pad_sequences([in_seq], maxlen=max_length)[0]\n",
        "            out_seq = to_categorical([out_seq], num_classes=vocab_size)[0]\n",
        "            x_1.append(feature)\n",
        "            x_2.append(in_seq)\n",
        "            y.append(out_seq)\n",
        "    return np.array(x_1), np.array(x_2), np.array(y)"
      ]
    },
    {
      "cell_type": "code",
      "execution_count": null,
      "id": "1143e20e",
      "metadata": {
        "id": "1143e20e",
        "colab": {
          "base_uri": "https://localhost:8080/"
        },
        "outputId": "7b9bb54f-ac18-4d2c-b6a1-f6a386c86447"
      },
      "outputs": [
        {
          "output_type": "execute_result",
          "data": {
            "text/plain": [
              "((8, 2048), (8, 32), (8, 4020))"
            ]
          },
          "metadata": {},
          "execution_count": 93
        }
      ],
      "source": [
        "\n",
        "[a,b],c = next(data_generator(train_descriptions, features, tokenizer, max_length))\n",
        "a.shape, b.shape, c.shape"
      ]
    },
    {
      "cell_type": "code",
      "execution_count": null,
      "id": "d2f68b70",
      "metadata": {
        "id": "d2f68b70"
      },
      "outputs": [],
      "source": [
        "from tensorflow.keras.utils import plot_model\n",
        "# Model definition\n",
        "def define_model(vocab_size, max_length):\n",
        "  # features from the CNN model compressed from 2048 to 256 nodes\n",
        "    inputs1 = Input(shape=(2048,))\n",
        "    fe1 = Dropout(0.5)(inputs1)\n",
        "    fe2 = Dense(256, activation='relu')(fe1)\n",
        "  # LSTM sequence model\n",
        "    inputs2 = Input(shape=(max_length,))\n",
        "    se1 = Embedding(vocab_size, 256, mask_zero=True)(inputs2)\n",
        "    se2 = Dropout(0.5)(se1)\n",
        "    se3 = LSTM(256)(se2)\n",
        "  # Merging both models\n",
        "    decoder1 = add([fe2, se3])\n",
        "    decoder2 = Dense(256, activation='relu')(decoder1)\n",
        "    outputs = Dense(vocab_size, activation='softmax')(decoder2)\n",
        "  # merge it [image, seq] [word]\n",
        "    model = Model(inputs=[inputs1, inputs2], outputs=outputs)\n",
        "    model.compile(loss='categorical_crossentropy', optimizer='adam')\n",
        "    plot_model(model, to_file=dataset_base + '/model.png', show_shapes=True)\n",
        "    return model"
      ]
    },
    {
      "cell_type": "markdown",
      "source": [
        "Various model validation and evaluation steps. Feature extraction, description generation are used for the final test"
      ],
      "metadata": {
        "id": "Yj2K5qWIjGtD"
      },
      "id": "Yj2K5qWIjGtD"
    },
    {
      "cell_type": "code",
      "execution_count": null,
      "id": "75d8a262",
      "metadata": {
        "id": "75d8a262"
      },
      "outputs": [],
      "source": [
        "def extract_features(filename, model):\n",
        "    try:\n",
        "         image = Image.open(filename)\n",
        "    except:\n",
        "        print(\"ERROR: Can't open image! Ensure that image path and extension is correct\")\n",
        " \n",
        "    image = image.resize((299,299))\n",
        "    image = np.array(image)\n",
        "    if image.shape[2] == 4:\n",
        "        image = image[..., :3]\n",
        "    image = np.expand_dims(image, axis=0)\n",
        "    image = image/127.5\n",
        "    image = image - 1.0\n",
        "    feature = model.predict(image)\n",
        "    return feature"
      ]
    },
    {
      "cell_type": "code",
      "execution_count": null,
      "id": "f967b03e",
      "metadata": {
        "id": "f967b03e"
      },
      "outputs": [],
      "source": [
        "def word_for_id(integer, tokenizer):\n",
        "    for word, index in tokenizer.word_index.items():\n",
        "        if index == integer:\n",
        "            return word\n",
        "    return None"
      ]
    },
    {
      "cell_type": "code",
      "execution_count": null,
      "id": "1d90ec65",
      "metadata": {
        "id": "1d90ec65"
      },
      "outputs": [],
      "source": [
        "def generate_description(model, tokenizer, photo, max_length):\n",
        "    in_text = 'start'\n",
        "    for i in range(max_length):\n",
        "        sequence = tokenizer.texts_to_sequences([in_text])[0]\n",
        "        sequence = pad_sequences([sequence], maxlen=max_length)\n",
        "        pred = model.predict([photo,sequence], verbose=0)\n",
        "        pred = np.argmax(pred)\n",
        "        word = word_for_id(pred, tokenizer)\n",
        "        if word is None:\n",
        "            break\n",
        "        in_text += ' ' + word\n",
        "        if word == 'end':\n",
        "            break\n",
        "    return in_text"
      ]
    },
    {
      "cell_type": "code",
      "execution_count": null,
      "id": "7ae2f815",
      "metadata": {
        "id": "7ae2f815"
      },
      "outputs": [],
      "source": [
        "''' Exception Model Training '''\n",
        "model = []\n",
        "model = define_model(vocab_size, max_length)\n",
        "epochs = 10\n",
        "steps = len(train_descriptions)\n",
        "print(\"steps=\", steps)\n",
        "# Saving models to a dictionary\n",
        "try:\n",
        "    os.rmdir(dataset_base + \"/modelsxcp\")\n",
        "    print(\"Removed Directory models..\")\n",
        "except:\n",
        "    print(\"Directory does not exist..\")\n",
        "\n",
        "print(\"Creating directory..\")\n",
        "os.mkdir(dataset_base + \"/modelsxcp\")\n",
        "for i in range(epochs):\n",
        "    generator = data_generator(train_descriptions, train_features, tokenizer, max_length)\n",
        "    model.fit_generator(generator, epochs=1, steps_per_epoch= steps, verbose=1)\n",
        "    model.save(dataset_base + \"/modelsxcp/model_\" + str(i) + \".h5\")"
      ]
    },
    {
      "cell_type": "code",
      "execution_count": null,
      "id": "41511113",
      "metadata": {
        "id": "41511113"
      },
      "outputs": [],
      "source": [
        "''' Model evaluation '''\n",
        "def evaluate_model(model, descriptions, photos, tokenizer, max_length):\n",
        "    actual, predicted = list(), list()\n",
        "    # step over the whole set\n",
        "    for key, desc_list in descriptions.items():\n",
        "        # generate description\n",
        "        yhat = generate_description(model, tokenizer, photos[key], max_length)\n",
        "        # store actual and predicted\n",
        "        references = [d.split() for d in desc_list]\n",
        "        actual.append(references)\n",
        "        predicted.append(yhat.split())\n",
        "    # calculate BLEU score\n",
        "    print('BLEU-1: %f' % corpus_bleu(actual, predicted, weights=(1.0, 0, 0, 0)))\n",
        "    print('BLEU-2: %f' % corpus_bleu(actual, predicted, weights=(0.5, 0.5, 0, 0)))\n",
        "    print('BLEU-3: %f' % corpus_bleu(actual, predicted, weights=(0.3, 0.3, 0.3, 0)))\n",
        "    print('BLEU-4: %f' % corpus_bleu(actual, predicted, weights=(0.25, 0.25, 0.25, 0.25)))\n",
        "\n"
      ]
    },
    {
      "cell_type": "code",
      "execution_count": null,
      "id": "ff892adb",
      "metadata": {
        "id": "ff892adb"
      },
      "outputs": [],
      "source": [
        "filename = dataset_text + \"/\" + \"Flickr_8k.testImages_Xc.txt\"\n",
        "test_imgs = load_photos(filename)\n",
        "print(\"size of test_imgs=\", len(test_imgs))\n",
        "\n",
        "test_descriptions = load_clean_descriptions(dataset_base+\"/descriptions.txt\", test_imgs)\n",
        "print(\"size of test_descriptions =\", len(test_descriptions))\n",
        "\n",
        "test_features = load_features(test_imgs)\n",
        "print(\"size of test_features =\", len(test_features))\n"
      ]
    },
    {
      "cell_type": "code",
      "execution_count": null,
      "id": "0358a687",
      "metadata": {
        "id": "0358a687"
      },
      "outputs": [],
      "source": [
        "model = load_model(dataset_base + '/modelsxcp/model_9.h5')\n",
        "evaluate_model(model, test_descriptions, test_features, tokenizer, max_length)"
      ]
    },
    {
      "cell_type": "code",
      "execution_count": null,
      "id": "b221b8d8",
      "metadata": {
        "id": "b221b8d8"
      },
      "outputs": [],
      "source": [
        "import matplotlib.pyplot as plt\n",
        "model = load_model(dataset_base + '/modelsxcp/model_9.h5')\n",
        "fig = plt.figure(figsize=(10,20))\n",
        "npic = 10\n",
        "count = 1\n",
        "xception_model = Xception(include_top=False, pooling=\"avg\")\n",
        "\n",
        "for sample_pic in test_imgs[20:30]:\n",
        "    filename = dataset_images+\"/\"+sample_pic\n",
        "    photo = extract_features(filename, xception_model)\n",
        "    img = Image.open(filename)\n",
        "    sample_description = generate_description(model, tokenizer, photo, max_length)\n",
        "    ax = fig.add_subplot(npic,2,count,xticks=[],yticks=[])\n",
        "    ax.imshow(img)\n",
        "    count += 1\n",
        "    sample_description = sample_description.lstrip('start ')\n",
        "    sample_description = sample_description.rstrip(' end')\n",
        "    actual_description = test_descriptions.get(sample_pic)[0]\n",
        "    actual_description = actual_description.lstrip('<start> ')\n",
        "    actual_description = actual_description.rstrip(' <end>')\n",
        "    \n",
        "    desc = \"Actual caption: \" + actual_description + \"\\n\" + \"Predicted caption: \" + sample_description\n",
        "    \n",
        "    ax = fig.add_subplot(npic,2,count)\n",
        "    plt.axis('off')\n",
        "    ax.plot()\n",
        "    ax.set_xlim(0,1)\n",
        "    ax.set_ylim(0,len(desc))\n",
        "    ax.text(0,count,desc,fontsize=20)\n",
        "    \n",
        "    count += 1\n",
        "    print(\"\\n\\n\")\n",
        "plt.show()"
      ]
    },
    {
      "cell_type": "code",
      "execution_count": null,
      "id": "9bf59589",
      "metadata": {
        "id": "9bf59589"
      },
      "outputs": [],
      "source": [
        "\n",
        "from os import listdir\n",
        "from pickle import dump\n",
        "from keras.applications.vgg16 import VGG16\n",
        "from keras.preprocessing.image import load_img\n",
        "from keras.preprocessing.image import img_to_array\n",
        "from keras.applications.vgg16 import preprocess_input\n",
        "from keras.models import Model"
      ]
    },
    {
      "cell_type": "code",
      "source": [
        "''' extract features from each photo in the directory '''\n",
        "def extract_all_features_vgg(dirc):\n",
        "    print(\"extract_all_features_vgg dirc=\",dirc)\n",
        "    model = VGG16()\n",
        "    model = Model(inputs=model.inputs, outputs=model.layers[-2].output)\n",
        "    features = dict()\n",
        "    files = fnmatch.filter(os.listdir(dirc), '*.jpg')\n",
        "    for pic in tqdm(files):\n",
        "        filename = dirc + '/' + pic\n",
        "        image = Image.open(file)\n",
        "        image = image.resize((224,224))\n",
        "        image = img_to_array(image)\n",
        "        image = image.reshape((1, image.shape[0], image.shape[1], image.shape[2]))\n",
        "        image = preprocess_input(image)\n",
        "        feature = model.predict(image, verbose=0)\n",
        "        features[pic] = feature\n",
        "    return features\n"
      ],
      "metadata": {
        "id": "hdm0FJ7mG3GX"
      },
      "id": "hdm0FJ7mG3GX",
      "execution_count": null,
      "outputs": []
    },
    {
      "cell_type": "code",
      "source": [
        "features = extract_all_features_vgg(dataset_images)"
      ],
      "metadata": {
        "id": "3553GDf_K9jP"
      },
      "id": "3553GDf_K9jP",
      "execution_count": null,
      "outputs": []
    },
    {
      "cell_type": "code",
      "source": [
        "dump(features, open(dataset_base+\"/features_vgg.p\",\"wb\"))\n",
        "features = []\n",
        "features = load(open(dataset_base+\"/features_vgg.p\",\"rb\"))"
      ],
      "metadata": {
        "id": "0Vc04tfCUjMU"
      },
      "id": "0Vc04tfCUjMU",
      "execution_count": null,
      "outputs": []
    },
    {
      "cell_type": "code",
      "source": [
        "train_features = load_features(train_imgs)\n",
        "print(\"size of train_features =\", len(train_features))\n",
        "\n",
        "test_features = load_features(test_imgs)\n",
        "print(\"size of test_features =\", len(test_features))"
      ],
      "metadata": {
        "id": "FEEtCG4XLg0h",
        "colab": {
          "base_uri": "https://localhost:8080/"
        },
        "outputId": "db9fc875-1dd9-4f14-d0b5-7a8a2174549b"
      },
      "id": "FEEtCG4XLg0h",
      "execution_count": null,
      "outputs": [
        {
          "output_type": "stream",
          "name": "stdout",
          "text": [
            "size of train_features = 6472\n",
            "size of test_features = 1619\n"
          ]
        }
      ]
    },
    {
      "cell_type": "code",
      "source": [
        "\n",
        "[a,b],c = next(data_generator(train_descriptions, features, tokenizer, max_length))\n",
        "a.shape, b.shape, c.shape"
      ],
      "metadata": {
        "id": "PYGJ4xuPLsu0"
      },
      "id": "PYGJ4xuPLsu0",
      "execution_count": null,
      "outputs": []
    },
    {
      "cell_type": "code",
      "source": [
        "''' VGG Model Training '''\n",
        "model = []\n",
        "model = define_model(vocab_size, max_length)\n",
        "epochs = 10\n",
        "steps = len(train_descriptions)\n",
        "print(\"steps=\", steps)\n",
        "# creating a directory named models to save our models\n",
        "try:\n",
        "    os.rmdir(dataset_base + \"/modelsvgg\")\n",
        "    print(\"Removed Directory models..\")\n",
        "except:\n",
        "    print(\"Directory does not exist..\")\n",
        "\n",
        "print(\"Creating directory..\")\n",
        "os.mkdir(dataset_base + \"/modelsvgg\")\n",
        "for i in range(epochs):\n",
        "    generator = data_generator(train_descriptions, train_features, tokenizer, max_length)\n",
        "    model.fit_generator(generator, epochs=1, steps_per_epoch= steps, verbose=1)\n",
        "    model.save(dataset_base + \"/modelsvgg/model_\" + str(i) + \".h5\")"
      ],
      "metadata": {
        "id": "pzEtiZA6NRjN"
      },
      "id": "pzEtiZA6NRjN",
      "execution_count": null,
      "outputs": []
    },
    {
      "cell_type": "markdown",
      "source": [
        "Various model validation and evaluation steps. Feature extraction, description generation are used for the final test. This set os for VGG"
      ],
      "metadata": {
        "id": "GR6syLi3j7mc"
      },
      "id": "GR6syLi3j7mc"
    },
    {
      "cell_type": "code",
      "source": [
        "def extract_vgg_features(filename, model):\n",
        "    try:\n",
        "         image = Image.open(filename)\n",
        "    except:\n",
        "        print(\"ERROR: Can't open image! Ensure that image path and extension is correct\")\n",
        "    \n",
        "    image = image.resize((224,224))\n",
        "    image = img_to_array(image)\n",
        "    if image.shape[2] == 4:\n",
        "        image = image[..., :3]\n",
        "\n",
        "    image = image.reshape((1, image.shape[0], image.shape[1], image.shape[2]))\n",
        "    image = preprocess_input(image)\n",
        "    feature = model.predict(image, verbose=0)\n",
        "    return feature"
      ],
      "metadata": {
        "id": "XjHGZ1ZJk-N0"
      },
      "id": "XjHGZ1ZJk-N0",
      "execution_count": null,
      "outputs": []
    },
    {
      "cell_type": "code",
      "source": [
        "def evaluate_vgg_model(model, descriptions, photos, tokenizer, max_length):\n",
        "    actual, predicted = list(), list()\n",
        "    for key, desc_list in descriptions.items():\n",
        "        yhat = generate_vgg_desc(model, tokenizer, photos[key], max_length)\n",
        "        references = [d.split() for d in desc_list]\n",
        "        actual.append(references)\n",
        "        predicted.append(yhat.split())\n",
        "    print('BLEU-1: %f' % corpus_bleu(actual, predicted, weights=(1.0, 0, 0, 0)))\n",
        "    print('BLEU-2: %f' % corpus_bleu(actual, predicted, weights=(0.5, 0.5, 0, 0)))\n",
        "    print('BLEU-3: %f' % corpus_bleu(actual, predicted, weights=(0.3, 0.3, 0.3, 0)))\n",
        "    print('BLEU-4: %f' % corpus_bleu(actual, predicted, weights=(0.25, 0.25, 0.25, 0.25)))\n"
      ],
      "metadata": {
        "id": "9MkFVQ8UlCyb"
      },
      "id": "9MkFVQ8UlCyb",
      "execution_count": null,
      "outputs": []
    },
    {
      "cell_type": "code",
      "source": [
        "def generate_vgg_desc(model, tokenizer, photo, max_length):\n",
        "    in_text = 'start'\n",
        "    for i in range(max_length):\n",
        "        sequence = tokenizer.texts_to_sequences([in_text])[0]\n",
        "        sequence = pad_sequences([sequence], maxlen=max_length)\n",
        "        pred = model.predict([photo,sequence], verbose=0)\n",
        "        pred = np.argmax(pred)\n",
        "        word = word_for_id(pred, tokenizer)\n",
        "        if word is None:\n",
        "            break\n",
        "        in_text += ' ' + word\n",
        "        if word == 'end':\n",
        "            break\n",
        "    return in_text"
      ],
      "metadata": {
        "id": "G2fzpiNXlJGx"
      },
      "id": "G2fzpiNXlJGx",
      "execution_count": null,
      "outputs": []
    },
    {
      "cell_type": "code",
      "source": [
        "model = load_model(dataset_base + '/modelsvgg/model_9.h5')"
      ],
      "metadata": {
        "id": "I7aWrZ_3pWDi"
      },
      "id": "I7aWrZ_3pWDi",
      "execution_count": null,
      "outputs": []
    },
    {
      "cell_type": "code",
      "source": [
        "evaluate_vgg_model(model, test_descriptions, test_features, tokenizer, max_length)"
      ],
      "metadata": {
        "id": "j-5dmGr9QaNg"
      },
      "id": "j-5dmGr9QaNg",
      "execution_count": null,
      "outputs": []
    },
    {
      "cell_type": "code",
      "source": [
        "import matplotlib.pyplot as plt\n",
        "fig = plt.figure(figsize=(10,20))\n",
        "npic = 10\n",
        "count = 1\n",
        "vgg_model = VGG16()\n",
        "\n",
        "for sample_pic in test_imgs[20:30]:\n",
        "    filename = dataset_images+\"/\"+sample_pic\n",
        "    photo = extract_vgg_features(filename, vgg_model)\n",
        "    img = Image.open(filename)\n",
        "    pred_description = generate_vgg_desc(model, tokenizer, photo, max_length)\n",
        "    ax = fig.add_subplot(npic,2,count,xticks=[],yticks=[])\n",
        "    ax.imshow(img)\n",
        "    count += 1\n",
        "    pred_description = pred_description.lstrip('start ')\n",
        "    pred_description = pred_description.rstrip(' end')\n",
        "    actual_description = test_descriptions.get(sample_pic)[0]\n",
        "    actual_description = actual_description.lstrip('<start> ')\n",
        "    actual_description = actual_description.rstrip(' <end>')\n",
        "    \n",
        "    desc = \"Actual caption: \" + actual_description + \"\\n\" + \"Predicted caption: \" + pred_description\n",
        "    \n",
        "    ax = fig.add_subplot(npic,2,count)\n",
        "    plt.axis('off')\n",
        "    ax.plot()\n",
        "    ax.set_xlim(0,1)\n",
        "    ax.set_ylim(0,len(desc))\n",
        "    ax.text(0,count,desc,fontsize=20)\n",
        "    \n",
        "    count += 1\n",
        "    print(\"\\n\\n\")\n",
        "#    print(sample_description)\n",
        "plt.show()"
      ],
      "metadata": {
        "id": "MO6d6go7Qv6D"
      },
      "id": "MO6d6go7Qv6D",
      "execution_count": null,
      "outputs": []
    },
    {
      "cell_type": "code",
      "source": [
        "result_join = ' '.join(\"A B C D E F\")\n",
        "result_final = result_join.rsplit(' ', 1)[0]\n",
        "print(result_join)\n",
        "print(result_final.split())\n",
        "print(result_final)\n",
        "references = [d.split() for d in result_final]\n",
        "print(references)"
      ],
      "metadata": {
        "colab": {
          "base_uri": "https://localhost:8080/"
        },
        "id": "RP7-XYKnXoM5",
        "outputId": "f000edc6-b982-4f2d-89bf-59d5cb4d4ad3"
      },
      "id": "RP7-XYKnXoM5",
      "execution_count": null,
      "outputs": [
        {
          "output_type": "stream",
          "name": "stdout",
          "text": [
            "A   B   C   D   E   F\n",
            "['A', 'B', 'C', 'D', 'E']\n",
            "A   B   C   D   E  \n",
            "[['A'], [], [], [], ['B'], [], [], [], ['C'], [], [], [], ['D'], [], [], [], ['E'], [], []]\n"
          ]
        }
      ]
    }
  ],
  "metadata": {
    "kernelspec": {
      "display_name": "Python 3 (ipykernel)",
      "language": "python",
      "name": "python3"
    },
    "language_info": {
      "codemirror_mode": {
        "name": "ipython",
        "version": 3
      },
      "file_extension": ".py",
      "mimetype": "text/x-python",
      "name": "python",
      "nbconvert_exporter": "python",
      "pygments_lexer": "ipython3",
      "version": "3.9.7"
    },
    "colab": {
      "name": "FinalProject_Xception.ipynb",
      "provenance": [],
      "collapsed_sections": []
    },
    "widgets": {
      "application/vnd.jupyter.widget-state+json": {
        "bf974d63d3e7423cbcde60676b99d973": {
          "model_module": "@jupyter-widgets/controls",
          "model_name": "HBoxModel",
          "model_module_version": "1.5.0",
          "state": {
            "_dom_classes": [],
            "_model_module": "@jupyter-widgets/controls",
            "_model_module_version": "1.5.0",
            "_model_name": "HBoxModel",
            "_view_count": null,
            "_view_module": "@jupyter-widgets/controls",
            "_view_module_version": "1.5.0",
            "_view_name": "HBoxView",
            "box_style": "",
            "children": [
              "IPY_MODEL_a2a0b85f51a04458a842c1aeffab4a15",
              "IPY_MODEL_4e0736b9d5874a8490c78f46ef8670f1",
              "IPY_MODEL_ec0233d7646149adbc1924de7ced7124"
            ],
            "layout": "IPY_MODEL_6f39f862e4874600a4a2ec867b3eae7e"
          }
        },
        "a2a0b85f51a04458a842c1aeffab4a15": {
          "model_module": "@jupyter-widgets/controls",
          "model_name": "HTMLModel",
          "model_module_version": "1.5.0",
          "state": {
            "_dom_classes": [],
            "_model_module": "@jupyter-widgets/controls",
            "_model_module_version": "1.5.0",
            "_model_name": "HTMLModel",
            "_view_count": null,
            "_view_module": "@jupyter-widgets/controls",
            "_view_module_version": "1.5.0",
            "_view_name": "HTMLView",
            "description": "",
            "description_tooltip": null,
            "layout": "IPY_MODEL_360d78b99dbe4af48761558a13ae4d6f",
            "placeholder": "​",
            "style": "IPY_MODEL_6c9b82359975407fb3566316e7af2da8",
            "value": ""
          }
        },
        "4e0736b9d5874a8490c78f46ef8670f1": {
          "model_module": "@jupyter-widgets/controls",
          "model_name": "FloatProgressModel",
          "model_module_version": "1.5.0",
          "state": {
            "_dom_classes": [],
            "_model_module": "@jupyter-widgets/controls",
            "_model_module_version": "1.5.0",
            "_model_name": "FloatProgressModel",
            "_view_count": null,
            "_view_module": "@jupyter-widgets/controls",
            "_view_module_version": "1.5.0",
            "_view_name": "ProgressView",
            "bar_style": "success",
            "description": "",
            "description_tooltip": null,
            "layout": "IPY_MODEL_1f2a3073455545dd82a342b6faac380b",
            "max": 1,
            "min": 0,
            "orientation": "horizontal",
            "style": "IPY_MODEL_354b5f9e17c946bfa468421c6fbf728f",
            "value": 0
          }
        },
        "ec0233d7646149adbc1924de7ced7124": {
          "model_module": "@jupyter-widgets/controls",
          "model_name": "HTMLModel",
          "model_module_version": "1.5.0",
          "state": {
            "_dom_classes": [],
            "_model_module": "@jupyter-widgets/controls",
            "_model_module_version": "1.5.0",
            "_model_name": "HTMLModel",
            "_view_count": null,
            "_view_module": "@jupyter-widgets/controls",
            "_view_module_version": "1.5.0",
            "_view_name": "HTMLView",
            "description": "",
            "description_tooltip": null,
            "layout": "IPY_MODEL_eb144ff3e2d142b6b71b79c641aa772d",
            "placeholder": "​",
            "style": "IPY_MODEL_5082c1f2e3894d989b9e6d3bdc29f80f",
            "value": " 0/? [00:30&lt;?, ?it/s]"
          }
        },
        "6f39f862e4874600a4a2ec867b3eae7e": {
          "model_module": "@jupyter-widgets/base",
          "model_name": "LayoutModel",
          "model_module_version": "1.2.0",
          "state": {
            "_model_module": "@jupyter-widgets/base",
            "_model_module_version": "1.2.0",
            "_model_name": "LayoutModel",
            "_view_count": null,
            "_view_module": "@jupyter-widgets/base",
            "_view_module_version": "1.2.0",
            "_view_name": "LayoutView",
            "align_content": null,
            "align_items": null,
            "align_self": null,
            "border": null,
            "bottom": null,
            "display": null,
            "flex": null,
            "flex_flow": null,
            "grid_area": null,
            "grid_auto_columns": null,
            "grid_auto_flow": null,
            "grid_auto_rows": null,
            "grid_column": null,
            "grid_gap": null,
            "grid_row": null,
            "grid_template_areas": null,
            "grid_template_columns": null,
            "grid_template_rows": null,
            "height": null,
            "justify_content": null,
            "justify_items": null,
            "left": null,
            "margin": null,
            "max_height": null,
            "max_width": null,
            "min_height": null,
            "min_width": null,
            "object_fit": null,
            "object_position": null,
            "order": null,
            "overflow": null,
            "overflow_x": null,
            "overflow_y": null,
            "padding": null,
            "right": null,
            "top": null,
            "visibility": null,
            "width": null
          }
        },
        "360d78b99dbe4af48761558a13ae4d6f": {
          "model_module": "@jupyter-widgets/base",
          "model_name": "LayoutModel",
          "model_module_version": "1.2.0",
          "state": {
            "_model_module": "@jupyter-widgets/base",
            "_model_module_version": "1.2.0",
            "_model_name": "LayoutModel",
            "_view_count": null,
            "_view_module": "@jupyter-widgets/base",
            "_view_module_version": "1.2.0",
            "_view_name": "LayoutView",
            "align_content": null,
            "align_items": null,
            "align_self": null,
            "border": null,
            "bottom": null,
            "display": null,
            "flex": null,
            "flex_flow": null,
            "grid_area": null,
            "grid_auto_columns": null,
            "grid_auto_flow": null,
            "grid_auto_rows": null,
            "grid_column": null,
            "grid_gap": null,
            "grid_row": null,
            "grid_template_areas": null,
            "grid_template_columns": null,
            "grid_template_rows": null,
            "height": null,
            "justify_content": null,
            "justify_items": null,
            "left": null,
            "margin": null,
            "max_height": null,
            "max_width": null,
            "min_height": null,
            "min_width": null,
            "object_fit": null,
            "object_position": null,
            "order": null,
            "overflow": null,
            "overflow_x": null,
            "overflow_y": null,
            "padding": null,
            "right": null,
            "top": null,
            "visibility": null,
            "width": null
          }
        },
        "6c9b82359975407fb3566316e7af2da8": {
          "model_module": "@jupyter-widgets/controls",
          "model_name": "DescriptionStyleModel",
          "model_module_version": "1.5.0",
          "state": {
            "_model_module": "@jupyter-widgets/controls",
            "_model_module_version": "1.5.0",
            "_model_name": "DescriptionStyleModel",
            "_view_count": null,
            "_view_module": "@jupyter-widgets/base",
            "_view_module_version": "1.2.0",
            "_view_name": "StyleView",
            "description_width": ""
          }
        },
        "1f2a3073455545dd82a342b6faac380b": {
          "model_module": "@jupyter-widgets/base",
          "model_name": "LayoutModel",
          "model_module_version": "1.2.0",
          "state": {
            "_model_module": "@jupyter-widgets/base",
            "_model_module_version": "1.2.0",
            "_model_name": "LayoutModel",
            "_view_count": null,
            "_view_module": "@jupyter-widgets/base",
            "_view_module_version": "1.2.0",
            "_view_name": "LayoutView",
            "align_content": null,
            "align_items": null,
            "align_self": null,
            "border": null,
            "bottom": null,
            "display": null,
            "flex": null,
            "flex_flow": null,
            "grid_area": null,
            "grid_auto_columns": null,
            "grid_auto_flow": null,
            "grid_auto_rows": null,
            "grid_column": null,
            "grid_gap": null,
            "grid_row": null,
            "grid_template_areas": null,
            "grid_template_columns": null,
            "grid_template_rows": null,
            "height": null,
            "justify_content": null,
            "justify_items": null,
            "left": null,
            "margin": null,
            "max_height": null,
            "max_width": null,
            "min_height": null,
            "min_width": null,
            "object_fit": null,
            "object_position": null,
            "order": null,
            "overflow": null,
            "overflow_x": null,
            "overflow_y": null,
            "padding": null,
            "right": null,
            "top": null,
            "visibility": null,
            "width": "20px"
          }
        },
        "354b5f9e17c946bfa468421c6fbf728f": {
          "model_module": "@jupyter-widgets/controls",
          "model_name": "ProgressStyleModel",
          "model_module_version": "1.5.0",
          "state": {
            "_model_module": "@jupyter-widgets/controls",
            "_model_module_version": "1.5.0",
            "_model_name": "ProgressStyleModel",
            "_view_count": null,
            "_view_module": "@jupyter-widgets/base",
            "_view_module_version": "1.2.0",
            "_view_name": "StyleView",
            "bar_color": null,
            "description_width": ""
          }
        },
        "eb144ff3e2d142b6b71b79c641aa772d": {
          "model_module": "@jupyter-widgets/base",
          "model_name": "LayoutModel",
          "model_module_version": "1.2.0",
          "state": {
            "_model_module": "@jupyter-widgets/base",
            "_model_module_version": "1.2.0",
            "_model_name": "LayoutModel",
            "_view_count": null,
            "_view_module": "@jupyter-widgets/base",
            "_view_module_version": "1.2.0",
            "_view_name": "LayoutView",
            "align_content": null,
            "align_items": null,
            "align_self": null,
            "border": null,
            "bottom": null,
            "display": null,
            "flex": null,
            "flex_flow": null,
            "grid_area": null,
            "grid_auto_columns": null,
            "grid_auto_flow": null,
            "grid_auto_rows": null,
            "grid_column": null,
            "grid_gap": null,
            "grid_row": null,
            "grid_template_areas": null,
            "grid_template_columns": null,
            "grid_template_rows": null,
            "height": null,
            "justify_content": null,
            "justify_items": null,
            "left": null,
            "margin": null,
            "max_height": null,
            "max_width": null,
            "min_height": null,
            "min_width": null,
            "object_fit": null,
            "object_position": null,
            "order": null,
            "overflow": null,
            "overflow_x": null,
            "overflow_y": null,
            "padding": null,
            "right": null,
            "top": null,
            "visibility": null,
            "width": null
          }
        },
        "5082c1f2e3894d989b9e6d3bdc29f80f": {
          "model_module": "@jupyter-widgets/controls",
          "model_name": "DescriptionStyleModel",
          "model_module_version": "1.5.0",
          "state": {
            "_model_module": "@jupyter-widgets/controls",
            "_model_module_version": "1.5.0",
            "_model_name": "DescriptionStyleModel",
            "_view_count": null,
            "_view_module": "@jupyter-widgets/base",
            "_view_module_version": "1.2.0",
            "_view_name": "StyleView",
            "description_width": ""
          }
        },
        "4c8cad68b034419b85081793fd273f3c": {
          "model_module": "@jupyter-widgets/controls",
          "model_name": "HBoxModel",
          "model_module_version": "1.5.0",
          "state": {
            "_dom_classes": [],
            "_model_module": "@jupyter-widgets/controls",
            "_model_module_version": "1.5.0",
            "_model_name": "HBoxModel",
            "_view_count": null,
            "_view_module": "@jupyter-widgets/controls",
            "_view_module_version": "1.5.0",
            "_view_name": "HBoxView",
            "box_style": "",
            "children": [
              "IPY_MODEL_f11cb19ae2a44a1d8f7221082cb7a6b1",
              "IPY_MODEL_ebf3e220ecdf428e9ccdc930fb62d65f",
              "IPY_MODEL_4376e8dc7c0c4c8bbbf3611622a6eb72"
            ],
            "layout": "IPY_MODEL_58fc26a021a94e648ef5a9738d34a77c"
          }
        },
        "f11cb19ae2a44a1d8f7221082cb7a6b1": {
          "model_module": "@jupyter-widgets/controls",
          "model_name": "HTMLModel",
          "model_module_version": "1.5.0",
          "state": {
            "_dom_classes": [],
            "_model_module": "@jupyter-widgets/controls",
            "_model_module_version": "1.5.0",
            "_model_name": "HTMLModel",
            "_view_count": null,
            "_view_module": "@jupyter-widgets/controls",
            "_view_module_version": "1.5.0",
            "_view_name": "HTMLView",
            "description": "",
            "description_tooltip": null,
            "layout": "IPY_MODEL_5a2eb82a57a74b9ab6bd37fcf1bfd994",
            "placeholder": "​",
            "style": "IPY_MODEL_5692a93fff7947688d95414b22be101a",
            "value": "100%"
          }
        },
        "ebf3e220ecdf428e9ccdc930fb62d65f": {
          "model_module": "@jupyter-widgets/controls",
          "model_name": "FloatProgressModel",
          "model_module_version": "1.5.0",
          "state": {
            "_dom_classes": [],
            "_model_module": "@jupyter-widgets/controls",
            "_model_module_version": "1.5.0",
            "_model_name": "FloatProgressModel",
            "_view_count": null,
            "_view_module": "@jupyter-widgets/controls",
            "_view_module_version": "1.5.0",
            "_view_name": "ProgressView",
            "bar_style": "success",
            "description": "",
            "description_tooltip": null,
            "layout": "IPY_MODEL_b959cb81767849998fde0eb9de708db6",
            "max": 8091,
            "min": 0,
            "orientation": "horizontal",
            "style": "IPY_MODEL_222caba99dbf4920b741d97a7a1de8da",
            "value": 8091
          }
        },
        "4376e8dc7c0c4c8bbbf3611622a6eb72": {
          "model_module": "@jupyter-widgets/controls",
          "model_name": "HTMLModel",
          "model_module_version": "1.5.0",
          "state": {
            "_dom_classes": [],
            "_model_module": "@jupyter-widgets/controls",
            "_model_module_version": "1.5.0",
            "_model_name": "HTMLModel",
            "_view_count": null,
            "_view_module": "@jupyter-widgets/controls",
            "_view_module_version": "1.5.0",
            "_view_name": "HTMLView",
            "description": "",
            "description_tooltip": null,
            "layout": "IPY_MODEL_ef0870e258b54769b42b6930e6ab1f8c",
            "placeholder": "​",
            "style": "IPY_MODEL_742eab478a1741bc91ea4cc295425be2",
            "value": " 8091/8091 [09:06&lt;00:00, 11.77it/s]"
          }
        },
        "58fc26a021a94e648ef5a9738d34a77c": {
          "model_module": "@jupyter-widgets/base",
          "model_name": "LayoutModel",
          "model_module_version": "1.2.0",
          "state": {
            "_model_module": "@jupyter-widgets/base",
            "_model_module_version": "1.2.0",
            "_model_name": "LayoutModel",
            "_view_count": null,
            "_view_module": "@jupyter-widgets/base",
            "_view_module_version": "1.2.0",
            "_view_name": "LayoutView",
            "align_content": null,
            "align_items": null,
            "align_self": null,
            "border": null,
            "bottom": null,
            "display": null,
            "flex": null,
            "flex_flow": null,
            "grid_area": null,
            "grid_auto_columns": null,
            "grid_auto_flow": null,
            "grid_auto_rows": null,
            "grid_column": null,
            "grid_gap": null,
            "grid_row": null,
            "grid_template_areas": null,
            "grid_template_columns": null,
            "grid_template_rows": null,
            "height": null,
            "justify_content": null,
            "justify_items": null,
            "left": null,
            "margin": null,
            "max_height": null,
            "max_width": null,
            "min_height": null,
            "min_width": null,
            "object_fit": null,
            "object_position": null,
            "order": null,
            "overflow": null,
            "overflow_x": null,
            "overflow_y": null,
            "padding": null,
            "right": null,
            "top": null,
            "visibility": null,
            "width": null
          }
        },
        "5a2eb82a57a74b9ab6bd37fcf1bfd994": {
          "model_module": "@jupyter-widgets/base",
          "model_name": "LayoutModel",
          "model_module_version": "1.2.0",
          "state": {
            "_model_module": "@jupyter-widgets/base",
            "_model_module_version": "1.2.0",
            "_model_name": "LayoutModel",
            "_view_count": null,
            "_view_module": "@jupyter-widgets/base",
            "_view_module_version": "1.2.0",
            "_view_name": "LayoutView",
            "align_content": null,
            "align_items": null,
            "align_self": null,
            "border": null,
            "bottom": null,
            "display": null,
            "flex": null,
            "flex_flow": null,
            "grid_area": null,
            "grid_auto_columns": null,
            "grid_auto_flow": null,
            "grid_auto_rows": null,
            "grid_column": null,
            "grid_gap": null,
            "grid_row": null,
            "grid_template_areas": null,
            "grid_template_columns": null,
            "grid_template_rows": null,
            "height": null,
            "justify_content": null,
            "justify_items": null,
            "left": null,
            "margin": null,
            "max_height": null,
            "max_width": null,
            "min_height": null,
            "min_width": null,
            "object_fit": null,
            "object_position": null,
            "order": null,
            "overflow": null,
            "overflow_x": null,
            "overflow_y": null,
            "padding": null,
            "right": null,
            "top": null,
            "visibility": null,
            "width": null
          }
        },
        "5692a93fff7947688d95414b22be101a": {
          "model_module": "@jupyter-widgets/controls",
          "model_name": "DescriptionStyleModel",
          "model_module_version": "1.5.0",
          "state": {
            "_model_module": "@jupyter-widgets/controls",
            "_model_module_version": "1.5.0",
            "_model_name": "DescriptionStyleModel",
            "_view_count": null,
            "_view_module": "@jupyter-widgets/base",
            "_view_module_version": "1.2.0",
            "_view_name": "StyleView",
            "description_width": ""
          }
        },
        "b959cb81767849998fde0eb9de708db6": {
          "model_module": "@jupyter-widgets/base",
          "model_name": "LayoutModel",
          "model_module_version": "1.2.0",
          "state": {
            "_model_module": "@jupyter-widgets/base",
            "_model_module_version": "1.2.0",
            "_model_name": "LayoutModel",
            "_view_count": null,
            "_view_module": "@jupyter-widgets/base",
            "_view_module_version": "1.2.0",
            "_view_name": "LayoutView",
            "align_content": null,
            "align_items": null,
            "align_self": null,
            "border": null,
            "bottom": null,
            "display": null,
            "flex": null,
            "flex_flow": null,
            "grid_area": null,
            "grid_auto_columns": null,
            "grid_auto_flow": null,
            "grid_auto_rows": null,
            "grid_column": null,
            "grid_gap": null,
            "grid_row": null,
            "grid_template_areas": null,
            "grid_template_columns": null,
            "grid_template_rows": null,
            "height": null,
            "justify_content": null,
            "justify_items": null,
            "left": null,
            "margin": null,
            "max_height": null,
            "max_width": null,
            "min_height": null,
            "min_width": null,
            "object_fit": null,
            "object_position": null,
            "order": null,
            "overflow": null,
            "overflow_x": null,
            "overflow_y": null,
            "padding": null,
            "right": null,
            "top": null,
            "visibility": null,
            "width": null
          }
        },
        "222caba99dbf4920b741d97a7a1de8da": {
          "model_module": "@jupyter-widgets/controls",
          "model_name": "ProgressStyleModel",
          "model_module_version": "1.5.0",
          "state": {
            "_model_module": "@jupyter-widgets/controls",
            "_model_module_version": "1.5.0",
            "_model_name": "ProgressStyleModel",
            "_view_count": null,
            "_view_module": "@jupyter-widgets/base",
            "_view_module_version": "1.2.0",
            "_view_name": "StyleView",
            "bar_color": null,
            "description_width": ""
          }
        },
        "ef0870e258b54769b42b6930e6ab1f8c": {
          "model_module": "@jupyter-widgets/base",
          "model_name": "LayoutModel",
          "model_module_version": "1.2.0",
          "state": {
            "_model_module": "@jupyter-widgets/base",
            "_model_module_version": "1.2.0",
            "_model_name": "LayoutModel",
            "_view_count": null,
            "_view_module": "@jupyter-widgets/base",
            "_view_module_version": "1.2.0",
            "_view_name": "LayoutView",
            "align_content": null,
            "align_items": null,
            "align_self": null,
            "border": null,
            "bottom": null,
            "display": null,
            "flex": null,
            "flex_flow": null,
            "grid_area": null,
            "grid_auto_columns": null,
            "grid_auto_flow": null,
            "grid_auto_rows": null,
            "grid_column": null,
            "grid_gap": null,
            "grid_row": null,
            "grid_template_areas": null,
            "grid_template_columns": null,
            "grid_template_rows": null,
            "height": null,
            "justify_content": null,
            "justify_items": null,
            "left": null,
            "margin": null,
            "max_height": null,
            "max_width": null,
            "min_height": null,
            "min_width": null,
            "object_fit": null,
            "object_position": null,
            "order": null,
            "overflow": null,
            "overflow_x": null,
            "overflow_y": null,
            "padding": null,
            "right": null,
            "top": null,
            "visibility": null,
            "width": null
          }
        },
        "742eab478a1741bc91ea4cc295425be2": {
          "model_module": "@jupyter-widgets/controls",
          "model_name": "DescriptionStyleModel",
          "model_module_version": "1.5.0",
          "state": {
            "_model_module": "@jupyter-widgets/controls",
            "_model_module_version": "1.5.0",
            "_model_name": "DescriptionStyleModel",
            "_view_count": null,
            "_view_module": "@jupyter-widgets/base",
            "_view_module_version": "1.2.0",
            "_view_name": "StyleView",
            "description_width": ""
          }
        }
      }
    }
  },
  "nbformat": 4,
  "nbformat_minor": 5
}